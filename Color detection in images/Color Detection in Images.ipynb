{
 "cells": [
  {
   "cell_type": "markdown",
   "id": "c4c42614",
   "metadata": {},
   "source": [
    "# The Sparks Foundation\n",
    "\n",
    "# Graduate Rotational Internship Program, November 2021\n",
    "\n",
    "# Computer Vision & IoT\n",
    "\n",
    "### Task 2 - Color Identification in Images\n",
    "\n",
    "### Author - Yash Bhadiyadra"
   ]
  },
  {
   "cell_type": "markdown",
   "id": "0f75b0e0",
   "metadata": {},
   "source": [
    "#### Import all the libraries"
   ]
  },
  {
   "cell_type": "code",
   "execution_count": 1,
   "id": "daf888e0",
   "metadata": {},
   "outputs": [],
   "source": [
    "import cv2\n",
    "import numpy as np\n",
    "import pandas as pd"
   ]
  },
  {
   "cell_type": "markdown",
   "id": "d85f0583",
   "metadata": {},
   "source": [
    "#### Import Image and define click"
   ]
  },
  {
   "cell_type": "code",
   "execution_count": 2,
   "id": "1b503799",
   "metadata": {},
   "outputs": [],
   "source": [
    "img = cv2.imread(\"Img3.png\")\n",
    "img=cv2.resize(img,(700,500))\n",
    "clicked = False\n",
    "r = g = b = xpos = ypos = 0"
   ]
  },
  {
   "cell_type": "markdown",
   "id": "a9ca7961",
   "metadata": {},
   "source": [
    "#### Read the CSV file using pandas"
   ]
  },
  {
   "cell_type": "code",
   "execution_count": 3,
   "id": "74291f75",
   "metadata": {},
   "outputs": [],
   "source": [
    "index=[\"color\",\"color_name\",\"hex\",\"R\",\"G\",\"B\"]\n",
    "csv = pd.read_csv(\"colors.csv\", names=index, header=None)"
   ]
  },
  {
   "cell_type": "markdown",
   "id": "11fefded",
   "metadata": {},
   "source": [
    "#### Calculate distance to get Colour name"
   ]
  },
  {
   "cell_type": "code",
   "execution_count": 4,
   "id": "6edd9ac4",
   "metadata": {},
   "outputs": [],
   "source": [
    "def getColorName(R,G,B):\n",
    "    minimum = 10000\n",
    "    for i in range(len(csv)):\n",
    "        d = abs(R- int(csv.loc[i,\"R\"])) + abs(G-int(csv.loc[i,\"G\"]))+ abs(B- int(csv.loc[i,\"B\"]))\n",
    "        if(d<=minimum):\n",
    "            minimum = d\n",
    "            cname = csv.loc[i,\"color_name\"]\n",
    "    return cname"
   ]
  },
  {
   "cell_type": "markdown",
   "id": "d6ebbf9d",
   "metadata": {},
   "source": [
    "#### Create the draw_function (To calculate the RGB value of the pixel)"
   ]
  },
  {
   "cell_type": "code",
   "execution_count": 5,
   "id": "de3db275",
   "metadata": {},
   "outputs": [],
   "source": [
    "def draw_function(event, x,y,flags,param):\n",
    "    if event == cv2.EVENT_LBUTTONDBLCLK:\n",
    "        global b,g,r,xpos,ypos, clicked\n",
    "        clicked = True\n",
    "        xpos = x\n",
    "        ypos = y\n",
    "        b,g,r = img[y,x]\n",
    "        b = int(b)\n",
    "        g = int(g)\n",
    "        r = int(r)"
   ]
  },
  {
   "cell_type": "markdown",
   "id": "d42ec29f",
   "metadata": {},
   "source": [
    "#### Set mouse callback event on a window"
   ]
  },
  {
   "cell_type": "code",
   "execution_count": 6,
   "id": "8103faa4",
   "metadata": {},
   "outputs": [],
   "source": [
    "cv2.namedWindow(\"color detection\")\n",
    "cv2.setMouseCallback(\"color detection\",draw_function)"
   ]
  },
  {
   "cell_type": "markdown",
   "id": "e4815300",
   "metadata": {},
   "source": [
    "#### Display Image on the window"
   ]
  },
  {
   "cell_type": "code",
   "execution_count": 7,
   "id": "8957844a",
   "metadata": {},
   "outputs": [],
   "source": [
    "while(1):\n",
    "    cv2.imshow(\"color detection\",img)\n",
    "    if (clicked):\n",
    "        cv2.rectangle(img,(20,20), (750,60), (b,g,r), -1)\n",
    "        text = getColorName(r,g,b)+'R='+str(r)+'G='+ str(g)+'B='+ str(b)\n",
    "        cv2.putText(img, text,(50,50),2,0.8,                                       (255,255,255),2,cv2.LINE_AA)\n",
    "        if(r+g+b>=600):\n",
    "            cv2.putText(img, text,(50,50),2,0.8,(0,0,0),2,cv2.LINE_AA)\n",
    "            \n",
    "        clicked=False\n",
    "    if cv2.waitKey(20) & 0xFF ==27:\n",
    "        break\n",
    "cv2.destroyAllWindows()"
   ]
  },
  {
   "cell_type": "markdown",
   "id": "73e0e463",
   "metadata": {},
   "source": [
    "#### The application is ready. Double click on the image to get the colour of the pixel. Press esc to close the application."
   ]
  }
 ],
 "metadata": {
  "kernelspec": {
   "display_name": "Python 3 (ipykernel)",
   "language": "python",
   "name": "python3"
  },
  "language_info": {
   "codemirror_mode": {
    "name": "ipython",
    "version": 3
   },
   "file_extension": ".py",
   "mimetype": "text/x-python",
   "name": "python",
   "nbconvert_exporter": "python",
   "pygments_lexer": "ipython3",
   "version": "3.7.11"
  }
 },
 "nbformat": 4,
 "nbformat_minor": 5
}
